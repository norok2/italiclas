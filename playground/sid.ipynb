{
 "cells": [
  {
   "cell_type": "code",
   "execution_count": null,
   "metadata": {},
   "outputs": [],
   "source": [
    "import shutil\n",
    "import tempfile\n",
    "import zipfile\n",
    "from pathlib import Path\n",
    "\n",
    "import requests\n",
    "\n",
    "source = \"https://www.kaggle.com/api/v1/datasets/download/basilb2s/language-detection\"\n",
    "source_filename = \"Language Detection.csv\"\n",
    "\n",
    "filename = source_filename.lower()\n",
    "dirpath = Path(\".\")\n",
    "filepath = dirpath / filename\n",
    "\n",
    "\n",
    "response = requests.get(source, stream=True, timeout=180)\n",
    "if response.status_code == 200:\n",
    "    with tempfile.NamedTemporaryFile() as temp_file:\n",
    "        for chunk in response.iter_content(chunk_size=4096):\n",
    "            if chunk:  # filter out keep-alive new chunks\n",
    "                temp_file.write(chunk)\n",
    "        temp_file.flush()\n",
    "        temp_file.seek(0)\n",
    "\n",
    "        with zipfile.ZipFile(temp_file, \"r\") as zip_ref:\n",
    "            zip_ref.extractall(dirpath)\n",
    "    shutil.move(dirpath / source_filename, filepath)\n",
    "    print(f\"Download complete! Saved and extracted: {dirpath}\")\n",
    "else:\n",
    "    print(f\"Download failed with status code: {response.status_code}\")\n"
   ]
  },
  {
   "cell_type": "code",
   "execution_count": null,
   "metadata": {},
   "outputs": [],
   "source": [
    "import numpy as np\n",
    "import pandas as pd\n",
    "from sklearn.feature_extraction.text import CountVectorizer\n",
    "from sklearn.model_selection import train_test_split\n",
    "from sklearn.naive_bayes import MultinomialNB\n",
    "from sklearn.pipeline import Pipeline"
   ]
  },
  {
   "cell_type": "code",
   "execution_count": null,
   "metadata": {},
   "outputs": [],
   "source": [
    "df = pd.read_csv(filepath)\n",
    "df[\"is_italian\"] = (df[\"Language\"] == \"Italian\")\n",
    "print(df[\"is_italian\"].sum(), df[\"is_italian\"].count())\n",
    "\n",
    "# Create a pipeline\n",
    "text_clf = Pipeline([\n",
    "    (\"vect\", CountVectorizer(strip_accents=\"unicode\")),\n",
    "    (\"clf\", MultinomialNB()),\n",
    "])\n",
    "\n",
    "# Split the data into training and testing sets\n",
    "X_train, X_test, y_train, y_test = train_test_split(\n",
    "    df[\"Text\"], df[\"Language\"], test_size=0.3, random_state=42,\n",
    ")\n",
    "\n",
    "# Fit the pipeline to the training data\n",
    "text_clf.fit(X_train, y_train)\n",
    "\n",
    "# Make predictions on the test data\n",
    "predicted = text_clf.predict(X_test)"
   ]
  },
  {
   "cell_type": "code",
   "execution_count": null,
   "metadata": {},
   "outputs": [],
   "source": [
    "text_clf.fit(X_train, y_train)"
   ]
  },
  {
   "cell_type": "code",
   "execution_count": null,
   "metadata": {},
   "outputs": [],
   "source": [
    "text_clf.score(X_test, y_test)"
   ]
  },
  {
   "cell_type": "code",
   "execution_count": null,
   "metadata": {},
   "outputs": [],
   "source": [
    "text_clf.predict([\"meglio niente\"])"
   ]
  }
 ],
 "metadata": {
  "language_info": {
   "name": "python"
  }
 },
 "nbformat": 4,
 "nbformat_minor": 2
}
